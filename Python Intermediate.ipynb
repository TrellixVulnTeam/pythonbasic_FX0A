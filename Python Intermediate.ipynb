{
 "cells": [
  {
   "cell_type": "code",
   "execution_count": 1,
   "metadata": {},
   "outputs": [
    {
     "name": "stdout",
     "output_type": "stream",
     "text": [
      "The Zen of Python, by Tim Peters\n",
      "\n",
      "Beautiful is better than ugly.\n",
      "Explicit is better than implicit.\n",
      "Simple is better than complex.\n",
      "Complex is better than complicated.\n",
      "Flat is better than nested.\n",
      "Sparse is better than dense.\n",
      "Readability counts.\n",
      "Special cases aren't special enough to break the rules.\n",
      "Although practicality beats purity.\n",
      "Errors should never pass silently.\n",
      "Unless explicitly silenced.\n",
      "In the face of ambiguity, refuse the temptation to guess.\n",
      "There should be one-- and preferably only one --obvious way to do it.\n",
      "Although that way may not be obvious at first unless you're Dutch.\n",
      "Now is better than never.\n",
      "Although never is often better than *right* now.\n",
      "If the implementation is hard to explain, it's a bad idea.\n",
      "If the implementation is easy to explain, it may be a good idea.\n",
      "Namespaces are one honking great idea -- let's do more of those!\n"
     ]
    }
   ],
   "source": [
    "import this"
   ]
  },
  {
   "cell_type": "markdown",
   "metadata": {
    "heading_collapsed": true
   },
   "source": [
    "# Que es la documentacion?"
   ]
  },
  {
   "cell_type": "markdown",
   "metadata": {},
   "source": [
    "# Manual de instrucciones, las caracteristicas: https://docs.python.org/3/\n",
    "Indice PEP: Index of Python Enhancement Proposals --> Guia de estilos del lenguaje, como se deberia de escribir el lenguale. Leer: Style Guide for Python Code. https://www.python.org/dev/peps/pep-0008/\n"
   ]
  },
  {
   "cell_type": "markdown",
   "metadata": {},
   "source": [
    "Que es un entorno virtual?\n",
    "Un modulo es codigo escrito por otra persona, que nos sirve para incorporar a tu codigo. random... Python aislado para funcionar con determinado proyecto. \n",
    "\n",
    "Para activar o crear un entorno vitual: \n",
    "1. vamos a la consola\n",
    "2. estamos en nuestra carpeta y escribimos py -m venv venv\n",
    "3. Automaticamente se crea una carpeta que contiene (include, lib, scripts..)\n",
    "4. Activacion en la consola: C:\\Users\\mor96198\\pythonbasic>.\\venv\\Scripts\\activate \n",
    "5. Para usar un python clonado y para dejarlo activado se crea un alias del comando anterior\n",
    "6. Para desactivar el entorno vitual: deactivate\n",
    "7. alias avenv=.\\venv\\Scriptd\\activate    ----->Para que sea mas sencillo activar el entorno virual\n"
   ]
  },
  {
   "cell_type": "markdown",
   "metadata": {},
   "source": [
    "Instalacion de dependencias con pip: Manejador de dependencias, para instalar modulos que no vienen dentro de python. \n",
    "Pacakge Installer for Python. \n",
    "Cuando activamos el entorno virtual instalamos los modulos solo para ese modulo\n",
    "pip freeze -> nos muestra que modulos tienes instalados\n",
    "pip3 --> su mayoria para linux\n",
    "\n",
    "Si necesitas compartirlo con otra persona, y esa persona necesita las mismas librerias que tu instales\n",
    "pip freeze > requirements.txt\n",
    "\n",
    "Cuando la persona lo vaya a usar lo unico que tiene que haces es \n",
    "pip install -r requiremets.txt\n",
    "\n",
    "\n"
   ]
  },
  {
   "cell_type": "markdown",
   "metadata": {},
   "source": [
    "# Listas y diccionarios anidados"
   ]
  },
  {
   "cell_type": "code",
   "execution_count": null,
   "metadata": {},
   "outputs": [],
   "source": []
  }
 ],
 "metadata": {
  "kernelspec": {
   "display_name": "Python 3",
   "language": "python",
   "name": "python3"
  },
  "language_info": {
   "codemirror_mode": {
    "name": "ipython",
    "version": 3
   },
   "file_extension": ".py",
   "mimetype": "text/x-python",
   "name": "python",
   "nbconvert_exporter": "python",
   "pygments_lexer": "ipython3",
   "version": "3.7.9"
  }
 },
 "nbformat": 4,
 "nbformat_minor": 4
}
