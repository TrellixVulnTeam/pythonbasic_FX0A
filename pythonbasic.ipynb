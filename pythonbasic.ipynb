{
 "cells": [
  {
   "cell_type": "markdown",
   "metadata": {},
   "source": [
    "# Conversor de moneda"
   ]
  },
  {
   "cell_type": "raw",
   "metadata": {},
   "source": [
    "Pesos Colombianos a Dolar Australiano"
   ]
  },
  {
   "cell_type": "code",
   "execution_count": null,
   "metadata": {},
   "outputs": [],
   "source": [
    "pesosC = float(input (\"Cuantos pesos Colombianos quieres convertir\"))"
   ]
  },
  {
   "cell_type": "code",
   "execution_count": null,
   "metadata": {},
   "outputs": [],
   "source": [
    "valor_dolar = 2864.61"
   ]
  },
  {
   "cell_type": "code",
   "execution_count": null,
   "metadata": {},
   "outputs": [],
   "source": [
    "dolares = pesosC / valor_dolar"
   ]
  },
  {
   "cell_type": "code",
   "execution_count": null,
   "metadata": {},
   "outputs": [],
   "source": [
    "dolares = round(dolares,2)"
   ]
  },
  {
   "cell_type": "code",
   "execution_count": null,
   "metadata": {},
   "outputs": [],
   "source": [
    "dolares = str(dolares)"
   ]
  },
  {
   "cell_type": "code",
   "execution_count": null,
   "metadata": {},
   "outputs": [],
   "source": [
    "print (\"Tienes $\" + dolares + \" dolares\")"
   ]
  },
  {
   "cell_type": "markdown",
   "metadata": {},
   "source": [
    "De Dolar Australiano a Pesos Col"
   ]
  },
  {
   "cell_type": "code",
   "execution_count": null,
   "metadata": {},
   "outputs": [],
   "source": [
    "dolares = float(input (\"Cuantos dolares Australianos tienes\"))"
   ]
  },
  {
   "cell_type": "code",
   "execution_count": null,
   "metadata": {},
   "outputs": [],
   "source": [
    "valor_peso = 0.00035"
   ]
  },
  {
   "cell_type": "code",
   "execution_count": null,
   "metadata": {},
   "outputs": [],
   "source": [
    "pesosC = round(dolares / valor_peso,2)"
   ]
  },
  {
   "cell_type": "code",
   "execution_count": null,
   "metadata": {},
   "outputs": [],
   "source": [
    "pesosC = str(pesosC)"
   ]
  },
  {
   "cell_type": "code",
   "execution_count": null,
   "metadata": {
    "scrolled": true
   },
   "outputs": [],
   "source": [
    "print (\"Tienes $C \" + pesosC + \" pesos Colombiano, sos millonario\")"
   ]
  },
  {
   "cell_type": "raw",
   "metadata": {},
   "source": [
    "Conversor de Moneda con Condicionales sin funciones"
   ]
  },
  {
   "cell_type": "code",
   "execution_count": null,
   "metadata": {
    "scrolled": true
   },
   "outputs": [],
   "source": [
    "menu = \"\"\"\n",
    "Bienvenido al conversor de monedas 🌝\n",
    "1. Pesos Col\n",
    "2. Pesos Arg\n",
    "3. Pesos Mex\n",
    "\n",
    "Elige una opcion: \"\"\"\n",
    "\n",
    "opcion = input(menu)\n",
    "\n",
    "if opcion == \"1\":\n",
    "    pesosC = float(input (\"Cuantos pesos Colombianos quieres convertir: \"))\n",
    "    valor_dolar = 2864.61\n",
    "    dolares = pesosC / valor_dolar\n",
    "    dolares = round(dolares,2)\n",
    "    dolares = str(dolares)\n",
    "    print (\"Tienes $\" + dolares + \" dolares Australianos\")\n",
    "    \n",
    "elif opcion == \"2\":\n",
    "    dolares = float(input (\"Cuantos pesos Argentinos deseas convertir: \"))\n",
    "    valor_dolar = 96.06\n",
    "    pesosA = round(dolares / valor_dolar,2)\n",
    "    pesosA = str(pesosA)\n",
    "    print (\"Tienes $Ar \" + pesosA + \" Dolares Americanos\")\n",
    "    \n",
    "elif opcion == \"3\":\n",
    "    dolares = float(input (\"Cuantos pesos Mexicanos deseas convertir: \"))\n",
    "    valor_dolar = 14.85\n",
    "    pesosM = round(dolares / valor_dolar,2)\n",
    "    pesosM = str(pesosA)\n",
    "    print (\"Tienes $M \" + pesosM + \" dolares Australianos\")\n",
    "else:\n",
    "    print(\"Ingresa una opcion correcta\")"
   ]
  },
  {
   "cell_type": "markdown",
   "metadata": {},
   "source": [
    "Conversor de moneda con funciones"
   ]
  },
  {
   "cell_type": "code",
   "execution_count": null,
   "metadata": {},
   "outputs": [],
   "source": [
    "def conversor(tipo_pesos, valor_dolar):\n",
    "    tipo_pesos = float(input (\"Cuantos pesos\" + tipo_pesos + \"quieres convertir: \"))\n",
    "    dolares = tipo_pesos / valor_dolar\n",
    "    dolares = round(dolares,2)\n",
    "    dolares = str(dolares)\n",
    "    print (\"Tienes $\" + dolares + \" dolares Australianos\")\n",
    "\n",
    "menu = \"\"\"\n",
    "Bienvenido al conversor de monedas 🌝\n",
    "1. Pesos Col\n",
    "2. Pesos Arg\n",
    "3. Pesos Mex\n",
    "\n",
    "Elige una opcion: \"\"\"\n",
    "\n",
    "opcion = input(menu)\n",
    "\n",
    "if opcion == \"1\":\n",
    "    conversor(\"Colombianos\", 2864)\n",
    "    \n",
    "elif opcion == \"2\":\n",
    "    conversor(\"Argentinos\", 71.8)\n",
    "    \n",
    "elif opcion == \"3\":\n",
    "    conversor(\"Mexicanos\", 14)\n",
    "else:\n",
    "    print(\"Ingresa una opcion correcta\")"
   ]
  },
  {
   "cell_type": "markdown",
   "metadata": {},
   "source": [
    "Funciones: para evitar repetir codigo"
   ]
  },
  {
   "cell_type": "code",
   "execution_count": null,
   "metadata": {},
   "outputs": [],
   "source": [
    "# def imprimir_m ():\n",
    "#     print(\"Mensaje especial: \")\n",
    "#     print(\"Aprendiendo a usar funciones: \")\n",
    "\n",
    "# imprimir_m()\n",
    "# #Agregando paramentros\n",
    "\n",
    "# def conversacion(mensaje):\n",
    "#     print(\"Hola \")\n",
    "#     print (\"Como estas? \")\n",
    "#     print (mensaje)\n",
    "#     print (\"Adios\")\n",
    "\n",
    "# opcion = int(input(\"Elige una opcion(1,2,3): \"))\n",
    "# if opcion == 1:\n",
    "#     conversacion(\"Elegiste la op 1\")\n",
    "# elif opcion == 2:\n",
    "#     conversacion(\"Elegiste la op 2\")\n",
    "# elif opcion == 3:\n",
    "#     conversacion(\"Elegiste la op 3\")\n",
    "# else:\n",
    "#     print(\"Escribe la opcion correcta\")\n",
    "    \n",
    "#guardar lo que regresa de la funcion con return\n",
    "\n",
    "def suma(a, b):\n",
    "    print(\"Se suman dos numeros \")\n",
    "    resultado = a+b\n",
    "    return resultado\n",
    "\n",
    "sumatoria = suma(1,6)\n",
    "print(sumatoria)\n",
    "\n",
    "\n"
   ]
  },
  {
   "cell_type": "markdown",
   "metadata": {},
   "source": [
    "# Condicionales"
   ]
  },
  {
   "cell_type": "code",
   "execution_count": null,
   "metadata": {
    "scrolled": true
   },
   "outputs": [],
   "source": [
    "edad = int(input(\"Escribe tu edad: \"))"
   ]
  },
  {
   "cell_type": "code",
   "execution_count": null,
   "metadata": {},
   "outputs": [],
   "source": [
    "# if edad > 17:\n",
    "#         print(\"Eres mayor de edad\")\n",
    "# else: \n",
    "#         print(\"Eres menor de edad\")"
   ]
  },
  {
   "cell_type": "code",
   "execution_count": null,
   "metadata": {
    "scrolled": true
   },
   "outputs": [],
   "source": [
    "numero = int(input(\"Escribe un numero: \" ))"
   ]
  },
  {
   "cell_type": "code",
   "execution_count": null,
   "metadata": {},
   "outputs": [],
   "source": [
    "if numero >5:\n",
    "    print(\"Es mayour a 5\")\n",
    "elif numero ==5:\n",
    "    print(\"Es igual a 5\")\n",
    "else: \n",
    "    print(\"Es menor a 5\")"
   ]
  },
  {
   "cell_type": "markdown",
   "metadata": {},
   "source": [
    "# Trabajando Strings"
   ]
  },
  {
   "cell_type": "code",
   "execution_count": null,
   "metadata": {},
   "outputs": [],
   "source": [
    "#Metodo es una funcion especial para un tipo de dato en particular\n",
    "#Ejem poner todo en mayusculas o la primera letra en mayuscula\n",
    "nombre = input(\"Ingresa tu nombre: \")\n"
   ]
  },
  {
   "cell_type": "code",
   "execution_count": null,
   "metadata": {},
   "outputs": [],
   "source": [
    "nombre.upper()"
   ]
  },
  {
   "cell_type": "code",
   "execution_count": null,
   "metadata": {
    "scrolled": false
   },
   "outputs": [],
   "source": [
    "nombre.capitalize()"
   ]
  },
  {
   "cell_type": "code",
   "execution_count": null,
   "metadata": {},
   "outputs": [],
   "source": [
    "nombre = nombre.capitalize() #para guardar el nuevo resultado\n",
    "print (nombre)"
   ]
  },
  {
   "cell_type": "code",
   "execution_count": null,
   "metadata": {},
   "outputs": [],
   "source": [
    "#Si quero quitar espacios indeseados:\n",
    "nombre = nombre.strip()"
   ]
  },
  {
   "cell_type": "code",
   "execution_count": null,
   "metadata": {
    "scrolled": false
   },
   "outputs": [],
   "source": [
    "nombre = nombre.lower()\n",
    "nombre"
   ]
  },
  {
   "cell_type": "code",
   "execution_count": null,
   "metadata": {},
   "outputs": [],
   "source": [
    "#Reemplazar letras 'o' por letras 'a'\n",
    "nombre = nombre.replace('e','u')\n",
    "nombre"
   ]
  },
  {
   "cell_type": "code",
   "execution_count": null,
   "metadata": {},
   "outputs": [],
   "source": [
    "#Acceder a cada letra con indicis\n",
    "nombre[0]\n",
    "letra = nombre[0] #Guarda en la variable letra la letra 'p'\n",
    "letra"
   ]
  },
  {
   "cell_type": "code",
   "execution_count": null,
   "metadata": {},
   "outputs": [],
   "source": [
    "#cuantos caracteres tiene mi cadena\n",
    "len(nombre)"
   ]
  },
  {
   "cell_type": "markdown",
   "metadata": {},
   "source": [
    "# Slices"
   ]
  },
  {
   "cell_type": "code",
   "execution_count": null,
   "metadata": {},
   "outputs": [],
   "source": [
    "#Partir texto\n",
    "nombre = \"Alejandra\"\n",
    "nombre[0:3]\n",
    "nombre [3:]\n",
    "nombre[2:5]\n",
    "#Un tercer numero para decirle a Python que vaya de dos en dos ejem: Aea\n",
    "nombre[0:6:2]\n",
    "#Pasos inversos\n",
    "nombre[::-1]"
   ]
  },
  {
   "cell_type": "markdown",
   "metadata": {},
   "source": [
    "Pograma con Palindromos"
   ]
  },
  {
   "cell_type": "code",
   "execution_count": null,
   "metadata": {},
   "outputs": [],
   "source": [
    "def palindromo(palabra):\n",
    "    palabra = palabra.replace(' ','')\n",
    "    palabra = palabra.lower()\n",
    "    palabra_invertida = palabra[::-1]\n",
    "    if palabra == palabra_invertida:\n",
    "        return True\n",
    "    else:\n",
    "        return False\n",
    "    \n",
    "\n",
    "def run(): #Funcion que corre todo el programa puede ser main\n",
    "    palabra = input(\"Escribe una palabra: \")\n",
    "    es_palindromo = palindromo(palabra)\n",
    "    if es_palindromo == True:\n",
    "        print(\"Es palindromo\")\n",
    "    else:\n",
    "        print(\"No es palindromo\")\n",
    "        \n",
    "\n",
    "if __name__ == '__main__': #Punto de entrada de un programa de python\n",
    "    run()\n",
    "    \n",
    "    "
   ]
  },
  {
   "cell_type": "markdown",
   "metadata": {},
   "source": [
    "# Bucles: Varias veces ejecucion de codigo"
   ]
  },
  {
   "cell_type": "code",
   "execution_count": null,
   "metadata": {},
   "outputs": [],
   "source": [
    "#Imprimir todas las potencias de 2 hasta llegar al numero 1.000\n",
    "#WHILE\n",
    "\n",
    "def run():\n",
    "    LIMITE = 1000 #Mayusculas define constantes, no variables. \n",
    "    \n",
    "    contador = 0\n",
    "    potencia_2 = 2**contador\n",
    "    while potencia_2 < LIMITE:\n",
    "        print(\"2 elevado a \" + str(contador) + \"es igual a: \" + str(potencia_2))\n",
    "        contador = contador + 1\n",
    "        potencia_2 = 2**contador\n",
    "    \n",
    "if __name__ == '__main__': \n",
    "    run()"
   ]
  },
  {
   "cell_type": "code",
   "execution_count": null,
   "metadata": {},
   "outputs": [],
   "source": [
    "#Ciclo FOR: \n",
    "#Ejemplo con while\n",
    "# contador = 1\n",
    "# while contador < 1000:\n",
    "#     contador = contador +1 \n",
    "#     #contador += 1 (Significa lo mismo que la linea anterior)\n",
    "#     print(contador)\n",
    "\n",
    "#Ejemplo con for en dos lineas. \n",
    "\n",
    "# for contador in range (1, 1001):\n",
    "#     print(contador)\n",
    "    \n",
    "for i in range(10): #La multiplicacion del numero 11. \n",
    "    print(11*i)\n"
   ]
  },
  {
   "cell_type": "code",
   "execution_count": null,
   "metadata": {},
   "outputs": [],
   "source": [
    "#Recorriendo un string con for\n",
    "def run():\n",
    "#     nombre = input(\"Escribe tu nombre\")\n",
    "#     for letra in nombre:\n",
    "#         print(letra)\n",
    "\n",
    "    frase = input(\"Escribe una frase: \")\n",
    "    for caracter in frase:\n",
    "        print(caracter.upper())\n",
    "\n",
    "if __name__ == '__main__': \n",
    "    run()"
   ]
  },
  {
   "cell_type": "code",
   "execution_count": null,
   "metadata": {},
   "outputs": [],
   "source": [
    "#Interrumpiendo ciclos con break y continue\n",
    "def run():\n",
    "# #Imprimir solo los pares\n",
    "#     for contador in range(1000):\n",
    "#         if contador % 2 != 0: #(%modulo)\n",
    "#             continue\n",
    "#         print(contador) \n",
    "\n",
    "# #Como funciona break\n",
    "#     for i in range (10000):\n",
    "#         print(i)\n",
    "#         if i == 5678:\n",
    "#             break\n",
    "\n",
    "#Otro ejemplo de break - con un string\n",
    "\n",
    "    texto = input(\"Escribe un texto \")\n",
    "    for letra in texto:\n",
    "        if letra == 'o':\n",
    "            break\n",
    "        print(letra)\n",
    "\n",
    "if __name__ == '__main__': \n",
    "    run()"
   ]
  },
  {
   "cell_type": "markdown",
   "metadata": {},
   "source": [
    "# Proyecto: Prueba de primalidad"
   ]
  },
  {
   "cell_type": "code",
   "execution_count": null,
   "metadata": {},
   "outputs": [],
   "source": [
    "#numero primo: Todo numero q puede dividirse por si mismo y por uno. \n",
    "\n",
    "def es_primo(numero):\n",
    "    contador = 0\n",
    "    for i in range(1, numero + 1):\n",
    "        if i == 1 or i == numero:\n",
    "            continue\n",
    "        if numero % i == 0:\n",
    "            contador += 1 \n",
    "    if contador == 0:\n",
    "        return True\n",
    "    else:\n",
    "        return False\n",
    "\n",
    "def run():\n",
    "    numero = int(input(\"Escribe un numero: \"))\n",
    "    if es_primo(numero):\n",
    "        print(\"Es primo\")\n",
    "    else: \n",
    "        print(\"No es primo\")\n",
    "\n",
    "\n",
    "if __name__ == '__main__': \n",
    "    run()"
   ]
  },
  {
   "cell_type": "markdown",
   "metadata": {},
   "source": [
    "# Proyecto videojuego"
   ]
  },
  {
   "cell_type": "code",
   "execution_count": null,
   "metadata": {},
   "outputs": [],
   "source": [
    "#Adivina el numero que penso la computadora\n",
    "#Modulo es un paquete de codigo ya disponible para ejecutor\n",
    "\n",
    "import random\n",
    "\n",
    "def run():\n",
    "    numero_aleatorio = random.randint(1, 100)\n",
    "    numero_elegido = int(input(\"Ingrese un numero de 1 a; 100: \"))\n",
    "    while numero_elegido != numero_aleatorio:\n",
    "        if numero_elegido < numero_aleatorio:\n",
    "            print (\"Ingresa un numero mas grande\")\n",
    "        else:\n",
    "            print(\"Busca un numero mas pequeno\")\n",
    "        numero_elegido = int(input(\"Elige otro numero: \"))\n",
    "    print(\"Ganaste! \")\n",
    "            \n",
    "\n",
    "if __name__ == '__main__': \n",
    "    run()"
   ]
  },
  {
   "cell_type": "markdown",
   "metadata": {},
   "source": [
    "# Almacenar varios valores en una lista variable: lista"
   ]
  },
  {
   "cell_type": "code",
   "execution_count": null,
   "metadata": {},
   "outputs": [],
   "source": [
    "numeros = [2,3,6,8,9,45,90]"
   ]
  },
  {
   "cell_type": "code",
   "execution_count": null,
   "metadata": {},
   "outputs": [],
   "source": [
    "objetos = [\"hola\", True, 2, 2.5]"
   ]
  },
  {
   "cell_type": "code",
   "execution_count": null,
   "metadata": {},
   "outputs": [],
   "source": [
    "objetos[1]"
   ]
  },
  {
   "cell_type": "code",
   "execution_count": null,
   "metadata": {},
   "outputs": [],
   "source": [
    "objetos[0]"
   ]
  },
  {
   "cell_type": "code",
   "execution_count": null,
   "metadata": {},
   "outputs": [],
   "source": [
    "#Si quiero cambiar algun valor en la lista uso append #Agrega\n",
    "objetos.append(False)"
   ]
  },
  {
   "cell_type": "code",
   "execution_count": null,
   "metadata": {},
   "outputs": [],
   "source": [
    "objetos"
   ]
  },
  {
   "cell_type": "code",
   "execution_count": null,
   "metadata": {},
   "outputs": [],
   "source": [
    "#Si quiero borrar cosas de mi lista uso .pop\n",
    "objetos.pop(3)"
   ]
  },
  {
   "cell_type": "code",
   "execution_count": null,
   "metadata": {},
   "outputs": [],
   "source": [
    "objetos"
   ]
  },
  {
   "cell_type": "code",
   "execution_count": null,
   "metadata": {},
   "outputs": [],
   "source": [
    "#Se puede recorrer la lista\n",
    "for elementos in objetos:\n",
    "    print(elementos)"
   ]
  },
  {
   "cell_type": "code",
   "execution_count": null,
   "metadata": {
    "scrolled": false
   },
   "outputs": [],
   "source": [
    "#List al reves y funcionan las slices as well\n",
    "objetos[::-1]"
   ]
  },
  {
   "cell_type": "code",
   "execution_count": null,
   "metadata": {},
   "outputs": [],
   "source": [
    "numeros2 = [7,8,9]"
   ]
  },
  {
   "cell_type": "code",
   "execution_count": null,
   "metadata": {},
   "outputs": [],
   "source": [
    "lista_final = objetos + numeros2"
   ]
  },
  {
   "cell_type": "code",
   "execution_count": null,
   "metadata": {},
   "outputs": [],
   "source": [
    "lista_final"
   ]
  },
  {
   "cell_type": "markdown",
   "metadata": {},
   "source": [
    "# Tuplas"
   ]
  },
  {
   "cell_type": "code",
   "execution_count": null,
   "metadata": {},
   "outputs": [],
   "source": [
    "#Son inmutables, estaticos, reducen memoria, se usan para hacer iteraciones. Las strings tambien son inmutables.\n",
    "mi_tupla = (1, 2, 3)\n",
    "mi_tupla\n",
    "\n",
    "for numero in mi_tupla:\n",
    "    print(numero)"
   ]
  },
  {
   "cell_type": "markdown",
   "metadata": {},
   "source": [
    "# Diccionarios"
   ]
  },
  {
   "cell_type": "code",
   "execution_count": null,
   "metadata": {},
   "outputs": [],
   "source": [
    "#Los diccionarios requieren de varias lineas. Estructura de datos de llaves y valores. Las llaves le podemos poner nombre a ese indice\n",
    "#Seguir aprendiendo estructuras de datos\n",
    "\n",
    "def run():\n",
    "    mi_diccionario = {\n",
    "        'llave1': 1,\n",
    "        'llave2': 2,\n",
    "        'llave3':3,\n",
    "        \n",
    "    }\n",
    "#     print(mi_diccionario['llave1'])\n",
    "#     print(mi_diccionario['llave2'])\n",
    "#     print(mi_diccionario['llave3'])\n",
    "\n",
    "    poblacion_paises = {\n",
    "        'Argentina': 44938000,\n",
    "        'Brasil': 120000542,\n",
    "        'Colombia': 50374000\n",
    "    }\n",
    "    \n",
    "#     for pais in poblacion_paises.keys(): #.keys devuelve el nombre de las llaves\n",
    "#         print(pais)\n",
    "\n",
    "#     for pais in poblacion_paises.values(): #.values devuelve los valores de las llaves\n",
    "#         print(pais)\n",
    "\n",
    "    for pais, poblacion in poblacion_paises.items(): #Devuelve ambas cosas en las llaves\n",
    "        print(pais+ ' tiene ' + str(poblacion) + \" habitantes\")\n",
    "\n",
    "if __name__ == \"__main__\":\n",
    "    run()"
   ]
  },
  {
   "cell_type": "markdown",
   "metadata": {},
   "source": [
    "# Proyecto: Generando contraseñas aleatorias\n"
   ]
  },
  {
   "cell_type": "code",
   "execution_count": null,
   "metadata": {},
   "outputs": [],
   "source": [
    "import random \n",
    "def generar_contrasena():\n",
    "    mayusculas = ['A','B','M','D','E','F']\n",
    "    minusculas = ['z','m','o','p','q']\n",
    "    simbolos = ['!','@','$','*','^']\n",
    "    numeros = ['1', '2','5','6']\n",
    "    \n",
    "    caracteres = mayusculas + minusculas + simbolos + numeros\n",
    "    \n",
    "    contrasena = []\n",
    "    \n",
    "    for i in range(15):\n",
    "        caracter_random = random.choice(caracteres)\n",
    "        contrasena.append(caracter_random)\n",
    "        \n",
    "    contrasena = ''.join(contrasena)\n",
    "    return contrasena\n",
    "\n",
    "def run():\n",
    "    contrasena = generar_contrasena()\n",
    "    print(\"Tu nueva contrasena es: \" + contrasena)\n",
    "\n",
    "if __name__ == '__main__':\n",
    "    run()"
   ]
  },
  {
   "cell_type": "code",
   "execution_count": null,
   "metadata": {},
   "outputs": [],
   "source": [
    "10 / 2 + 5 * 7"
   ]
  }
 ],
 "metadata": {
  "kernelspec": {
   "display_name": "Python 3",
   "language": "python",
   "name": "python3"
  },
  "language_info": {
   "codemirror_mode": {
    "name": "ipython",
    "version": 3
   },
   "file_extension": ".py",
   "mimetype": "text/x-python",
   "name": "python",
   "nbconvert_exporter": "python",
   "pygments_lexer": "ipython3",
   "version": "3.7.9"
  }
 },
 "nbformat": 4,
 "nbformat_minor": 4
}
